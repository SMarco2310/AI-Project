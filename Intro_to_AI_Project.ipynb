{
  "nbformat": 4,
  "nbformat_minor": 0,
  "metadata": {
    "colab": {
      "provenance": [],
      "authorship_tag": "ABX9TyMqkyUvCeksgqEtlsvH18Hh",
      "include_colab_link": true
    },
    "kernelspec": {
      "name": "python3",
      "display_name": "Python 3"
    },
    "language_info": {
      "name": "python"
    }
  },
  "cells": [
    {
      "cell_type": "markdown",
      "metadata": {
        "id": "view-in-github",
        "colab_type": "text"
      },
      "source": [
        "<a href=\"https://colab.research.google.com/github/SMarco2310/AI-Project/blob/main/Intro_to_AI_Project.ipynb\" target=\"_parent\"><img src=\"https://colab.research.google.com/assets/colab-badge.svg\" alt=\"Open In Colab\"/></a>"
      ]
    },
    {
      "cell_type": "markdown",
      "source": [
        "### Data Processing\n",
        "\n",
        " We try to rescale all the picture to 160x160 to make the use of the face net algorithm easy\n",
        "\n",
        " Steps:\n",
        "\n",
        "steps 1:\n",
        "\n",
        "- Create new directory for the transformed data\n",
        "- read the data\n",
        "- resize all the pictures and put them back inside the new directory"
      ],
      "metadata": {
        "id": "MfzoNd19Ac45"
      }
    },
    {
      "cell_type": "code",
      "execution_count": null,
      "metadata": {
        "id": "5si1R3F-9FpZ"
      },
      "outputs": [],
      "source": []
    }
  ]
}